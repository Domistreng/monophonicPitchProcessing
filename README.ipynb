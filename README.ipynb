{
 "cells": [
  {
   "cell_type": "markdown",
   "metadata": {},
   "source": [
    "#This Project is developed to take a wav file of a single voice of music and get the musical pitch at any time frame."
   ]
  },
  {
   "cell_type": "markdown",
   "metadata": {},
   "source": [
    "Imports:"
   ]
  },
  {
   "cell_type": "code",
   "execution_count": 9,
   "metadata": {},
   "outputs": [],
   "source": [
    "import matplotlib.pyplot as plt\n",
    "import numpy as np\n",
    "import wave\n",
    "import sys\n",
    "import statistics\n",
    "import random\n",
    "import math\n",
    "import librosa"
   ]
  },
  {
   "cell_type": "markdown",
   "metadata": {},
   "source": [
    "Name of User (used in application)"
   ]
  },
  {
   "cell_type": "code",
   "execution_count": 10,
   "metadata": {},
   "outputs": [],
   "source": [
    "userId = 'Temp'"
   ]
  },
  {
   "cell_type": "markdown",
   "metadata": {},
   "source": [
    "Load audio file (only accepts .wav file)"
   ]
  },
  {
   "cell_type": "code",
   "execution_count": 11,
   "metadata": {},
   "outputs": [],
   "source": [
    "originalFileLoc = \"./data/raw/testAudioVoice.wav\"\n",
    "x, sr = librosa.load(originalFileLoc)\n",
    "audioDuration = librosa.get_duration(y=x, sr=sr)"
   ]
  },
  {
   "cell_type": "markdown",
   "metadata": {},
   "source": [
    "Set values"
   ]
  },
  {
   "cell_type": "code",
   "execution_count": 12,
   "metadata": {},
   "outputs": [],
   "source": [
    "defaultDecimalRate = 5\n",
    "defaultLoweringRate = 3\n",
    "defaultDurationTime = 0.05\n",
    "defaultMinDist = 0.05\n",
    "\n",
    "pitchToLetter = {\n",
    "    0: 'C',\n",
    "    1: 'C#',\n",
    "    2: 'D',\n",
    "    3: 'D#',\n",
    "    4: 'E',\n",
    "    5: 'F',\n",
    "    6: 'F#',\n",
    "    7: 'G',\n",
    "    8: 'G#',\n",
    "    9: 'A',\n",
    "    10: 'A#',\n",
    "    11: 'B'\n",
    "}\n",
    "\n",
    "pitches = {0: 65.406}\n",
    "currentPitch = 0\n",
    "while currentPitch <= 71:\n",
    "    prevPitch = pitches[currentPitch]\n",
    "    currentPitch += 1\n",
    "    pitches[currentPitch] = prevPitch * (2 ** (1/12))"
   ]
  },
  {
   "cell_type": "markdown",
   "metadata": {},
   "source": [
    "Create Functions"
   ]
  },
  {
   "cell_type": "code",
   "execution_count": 13,
   "metadata": {},
   "outputs": [],
   "source": [
    "def is_close(a, b, tolerance=1e-2):\n",
    "       return abs(a - b) < tolerance\n",
    "\n",
    "def lowerRate(lst, rte, decimalRate):\n",
    "    \"\"\"(List of signal, updated rate (x))\n",
    "    Used to lower bitrate by a factor of x to fix fuzz\"\"\"\n",
    "    retList = []\n",
    "    for i in range(int(len(lst) / rte) - 1):\n",
    "        includedIndices = [lst[i * rte]]\n",
    "        for j in range(rte):\n",
    "            includedIndices.append(lst[(i * rte) + j + 1])\n",
    "        retList.append(round(statistics.median(includedIndices),decimalRate))\n",
    "    return (retList)"
   ]
  },
  {
   "cell_type": "markdown",
   "metadata": {},
   "source": [
    "Pitch Analyzer Class:"
   ]
  },
  {
   "cell_type": "code",
   "execution_count": 14,
   "metadata": {},
   "outputs": [],
   "source": [
    "class PitchAnalyzer:\n",
    "    def __init__(self, filename, decimalRate = defaultDecimalRate, loweringRate = defaultLoweringRate, minDist = defaultMinDist, durationTime = defaultDurationTime):\n",
    "        self.decimalRate = decimalRate\n",
    "        self.loweringRate = loweringRate\n",
    "        self.minDist = minDist\n",
    "        self.durationTime = durationTime\n",
    "        \n",
    "        spf = wave.open(filename, \"r\")\n",
    "        signal = spf.readframes(-1)\n",
    "        signal = np.frombuffer(signal, np.int16)\n",
    "        \n",
    "        frameRate = spf.getframerate()\n",
    "        \n",
    "        timeList = []\n",
    "        \n",
    "        newDuration = (len(signal) / frameRate)\n",
    "        if is_close(newDuration / 2, audioDuration): \n",
    "            for i in range(len(signal)):\n",
    "                timeList.append(round((i / 2) / frameRate,self.decimalRate))\n",
    "                \n",
    "        else:\n",
    "            for i in range(len(signal)):\n",
    "                timeList.append(round(i / frameRate,self.decimalRate))\n",
    "                \n",
    "\n",
    "        \n",
    "        \n",
    "        \n",
    "            \n",
    "        if self.loweringRate != 1:\n",
    "            signal = lowerRate(signal, self.loweringRate, self.decimalRate)\n",
    "            timeList = lowerRate(timeList, self.loweringRate, self.decimalRate)\n",
    "            \n",
    "            \n",
    "        self.signal = signal.copy()\n",
    "        self.timeList = timeList.copy()\n",
    "        self.length = timeList[-1]\n",
    "        \n",
    "    def createWavGraph(self, fileLoc):\n",
    "        \n",
    "        plt.figure(1)\n",
    "        plt.title(\"Musical Plot of: \" + fileLoc)\n",
    "        plt.plot(self.timeList, self.signal)\n",
    "        \n",
    "        # for i in (changesOfDerivative):\n",
    "        #     plt.plot(timeList[i], signal[i], 'ro')\n",
    "        #     plt.annotate(f'({round(timeList[i],4)})', (timeList[i], signal[i]), textcoords=\"offset points\", xytext=(0, 10), ha='center')\n",
    "        # for i in (antiPeaks):\n",
    "        #     plt.plot(timeList[i], signal[i], 'bo')\n",
    "        \n",
    "        plt.savefig(fileLoc)\n",
    "        plt.close()\n",
    "\n",
    "        # plt.savefig('my_plot.png')\n",
    "    \n",
    "    def graphPitches(self, fileLoc):\n",
    "        retFreqList = []\n",
    "        retTimeList = []\n",
    "        i = 0\n",
    "        \n",
    "        while i < self.length - 0.1:\n",
    "            try:\n",
    "                retFreqList.append(self.getPitchAtTime(i))\n",
    "                retTimeList.append(i)\n",
    "            except Exception as err:\n",
    "                # print(err)\n",
    "                pass\n",
    "            i += self.durationTime\n",
    "            \n",
    "        specTimeLoc = retTimeList[random.randint(0,len(retTimeList) - 1)]\n",
    "        \n",
    "        self.getPitchAtTime(specTimeLoc, fileName = (\"./data/processed/plotPartial\" + userId + \".png\"))\n",
    "        self.createWavGraph(fileLoc = (\"./data/processed/plotFull\" + userId + \".png\"))\n",
    "        \n",
    "            \n",
    "        avgVal = statistics.median(retFreqList)\n",
    "        removeIndexes = []\n",
    "        for i in range(len(retFreqList)):\n",
    "            currentVal = retFreqList[i]\n",
    "            if not (currentVal) < (avgVal * (1 + (self.minDist * 10))) and (currentVal) > (avgVal * (1 - (self.minDist * 0.1))):\n",
    "                removeIndexes.append(i)\n",
    "                \n",
    "        retFreqList = [item for index, item in enumerate(retFreqList) if index not in removeIndexes]\n",
    "        retTimeList = [item for index, item in enumerate(retTimeList) if index not in removeIndexes]\n",
    "        \n",
    "        retFreqList = lowerRate(retFreqList, 5, self.decimalRate)\n",
    "        retTimeList = lowerRate(retTimeList, 5, self.decimalRate)\n",
    "            \n",
    "        plt.figure(1)\n",
    "        plt.title(\"Frequency (hz) over time (seconds)\" )\n",
    "        plt.plot(retTimeList, retFreqList)\n",
    "        \n",
    "        # for i in (changesOfDerivative):\n",
    "        #     plt.plot(timeList[i], signal[i], 'ro')\n",
    "        #     plt.annotate(f'({round(timeList[i],4)})', (timeList[i], signal[i]), textcoords=\"offset points\", xytext=(0, 10), ha='center')\n",
    "        # for i in (antiPeaks):\n",
    "        #     plt.plot(timeList[i], signal[i], 'bo')\n",
    "        \n",
    "        plt.savefig(fileLoc)\n",
    "        plt.close()\n",
    "            \n",
    "        \n",
    "        \n",
    "        \n",
    "         \n",
    "\n",
    "\n",
    "    def getPitchAtTime(self, startTime, fileName = False, durationTime = False):\n",
    "        \"\"\"(Start time in seconds, End time in seconds, name of .wav file)\n",
    "        Returns most common frequency at the listed time\"\"\"\n",
    "        \n",
    "        if (durationTime == False):\n",
    "            durationTime = self.durationTime\n",
    "        \n",
    "        decimalRate = self.decimalRate\n",
    "        minDist = self.minDist\n",
    "        \n",
    "        startTime = round(startTime, decimalRate)\n",
    "        durationTime = round(durationTime, decimalRate)\n",
    "        \n",
    "        signal = self.signal.copy()\n",
    "        timeList = self.timeList.copy()\n",
    "        \n",
    "\n",
    "        while(startTime not in timeList):\n",
    "            startTime = round(startTime + 1 / 10 ** decimalRate,decimalRate)\n",
    "        startIndex = int(timeList.index(startTime))\n",
    "        while (startTime + durationTime not in timeList):\n",
    "            durationTime += 1 / 10 ** decimalRate\n",
    "            durationTime = round(durationTime, decimalRate)\n",
    "        endIndex = int(timeList.index(startTime + durationTime))\n",
    "\n",
    "\n",
    "        \n",
    "        signal = signal[startIndex:endIndex]\n",
    "        timeList = timeList[startIndex:endIndex]\n",
    "        \n",
    "        signalDerivative = []\n",
    "\n",
    "        for i in range(len(signal) - 1):\n",
    "            topNum = signal[i + 1]\n",
    "            botNum = signal[i]\n",
    "            signalDerivative.append(topNum - botNum)\n",
    "            \n",
    "        prevVal = signalDerivative[0]\n",
    "        changesOfDerivative = []\n",
    "        antiPeaks = []\n",
    "        for i in range(len(signalDerivative) - 1):\n",
    "            currentVal = signalDerivative[i + 1]\n",
    "            \n",
    "            if currentVal * prevVal < 0:\n",
    "                changesOfDerivative.append(i + 1)\n",
    "                if currentVal > 0:\n",
    "                    if len(antiPeaks) == 0:\n",
    "                        antiPeaks.append(i+1)\n",
    "                    else:\n",
    "                        avgPeak = 0\n",
    "                        for j in antiPeaks:\n",
    "                            avgPeak += signal[j]\n",
    "                        avgPeak /= len(antiPeaks)\n",
    "                        if (signal[i + 1] <= (avgPeak * (1-minDist))):\n",
    "                            antiPeaks.append(i+1)\n",
    "                            \n",
    "            prevVal = currentVal\n",
    "        \n",
    "        peakVals = []\n",
    "        for i in antiPeaks:\n",
    "            peakVals.append(signal[i])\n",
    "\n",
    "        avgPeak = statistics.median(peakVals)\n",
    "        removeIndexes = []\n",
    "        for i in range(len(antiPeaks)):\n",
    "            if not ((signal[antiPeaks[i]]) < (avgPeak * (1 - minDist)) and (signal[antiPeaks[i]]) > (avgPeak * (1 + minDist))):\n",
    "                removeIndexes.append(i)\n",
    "                \n",
    "        antiPeaks = [item for index, item in enumerate(antiPeaks) if index not in removeIndexes]\n",
    "\n",
    "        frequencies = []\n",
    "        \n",
    "        for i in range(len(antiPeaks) - 1):\n",
    "            topNum = timeList[antiPeaks[i + 1]]\n",
    "            botNum = timeList[antiPeaks[i]]\n",
    "            if topNum != botNum:\n",
    "                frequencies.append(1/(topNum - botNum))\n",
    "            \n",
    "        avgFreq = statistics.median(frequencies)\n",
    "        \n",
    "        if (fileName != False):\n",
    "        \n",
    "            plt.figure(1)\n",
    "            plt.title(\"Musical Plot of: \" + fileName)\n",
    "            plt.plot(timeList, signal)\n",
    "            for i in (changesOfDerivative):\n",
    "                plt.plot(timeList[i], signal[i], 'ro')\n",
    "                plt.annotate(f'({round(timeList[i],4)})', (timeList[i], signal[i]), textcoords=\"offset points\", xytext=(0, 10), ha='center')\n",
    "            for i in (antiPeaks):\n",
    "                plt.plot(timeList[i], signal[i], 'bo')\n",
    "\n",
    "            plt.savefig(fileName) \n",
    "            plt.close()\n",
    "        \n",
    "        return(avgFreq)"
   ]
  },
  {
   "cell_type": "markdown",
   "metadata": {},
   "source": [
    "Create analyzer"
   ]
  },
  {
   "cell_type": "code",
   "execution_count": 15,
   "metadata": {},
   "outputs": [],
   "source": [
    "thisAnalyzer = PitchAnalyzer(originalFileLoc)"
   ]
  },
  {
   "cell_type": "markdown",
   "metadata": {},
   "source": [
    "Graph all pitches"
   ]
  },
  {
   "cell_type": "code",
   "execution_count": 16,
   "metadata": {},
   "outputs": [],
   "source": [
    "thisAnalyzer.graphPitches(\"./data/processed/pitchesPlotFull\" + userId + \".png\")"
   ]
  }
 ],
 "metadata": {
  "kernelspec": {
   "display_name": "3.10.17",
   "language": "python",
   "name": "python3"
  },
  "language_info": {
   "codemirror_mode": {
    "name": "ipython",
    "version": 3
   },
   "file_extension": ".py",
   "mimetype": "text/x-python",
   "name": "python",
   "nbconvert_exporter": "python",
   "pygments_lexer": "ipython3",
   "version": "3.10.17"
  }
 },
 "nbformat": 4,
 "nbformat_minor": 2
}
