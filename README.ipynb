{
 "cells": [
  {
   "cell_type": "markdown",
   "metadata": {},
   "source": [
    "#This Project is developed to take a wav file of a single voice of music and get the musical pitch at any time frame."
   ]
  },
  {
   "cell_type": "markdown",
   "metadata": {},
   "source": [
    "Imports:"
   ]
  },
  {
   "cell_type": "code",
   "execution_count": 49,
   "metadata": {},
   "outputs": [],
   "source": [
    "import matplotlib.pyplot as plt\n",
    "import numpy as np\n",
    "import wave\n",
    "import sys\n",
    "import statistics\n",
    "import random\n",
    "import math\n",
    "import librosa\n",
    "import json\n",
    "import os\n",
    "import glob"
   ]
  },
  {
   "cell_type": "markdown",
   "metadata": {},
   "source": [
    "Name of User (used in application)"
   ]
  },
  {
   "cell_type": "code",
   "execution_count": 50,
   "metadata": {},
   "outputs": [],
   "source": [
    "userId = 'user'"
   ]
  },
  {
   "cell_type": "markdown",
   "metadata": {},
   "source": [
    "ONLY SET TO TRUE DURING TESTING: graphs every segment of audio (largely increases run time)"
   ]
  },
  {
   "cell_type": "code",
   "execution_count": 51,
   "metadata": {},
   "outputs": [],
   "source": [
    "fullgraph = False\n",
    "\n",
    "if fullgraph == True:\n",
    "    files = glob.glob('./data/processed/plotPartial/*.png')\n",
    "    for f in files:\n",
    "        os.remove(f)"
   ]
  },
  {
   "cell_type": "markdown",
   "metadata": {},
   "source": [
    "Load audio file (only accepts .wav file)"
   ]
  },
  {
   "cell_type": "code",
   "execution_count": 52,
   "metadata": {},
   "outputs": [],
   "source": [
    "fileName = \"sample7.wav\"\n",
    "originalFileLoc = \"./data/raw/\" + fileName\n",
    "x, sr = librosa.load(originalFileLoc)\n",
    "audioDuration = librosa.get_duration(y=x, sr=sr)"
   ]
  },
  {
   "cell_type": "markdown",
   "metadata": {},
   "source": [
    "Set values"
   ]
  },
  {
   "cell_type": "code",
   "execution_count": 53,
   "metadata": {},
   "outputs": [],
   "source": [
    "#What decimal to round time / signal too\n",
    "defaultDecimalRate = 5\n",
    "#Rate to lower bit by\n",
    "defaultLoweringRate = 3\n",
    "#How long each frequency reading should be (in seconds)\n",
    "defaultDurationTime = 0.1\n",
    "\n",
    "defaultMinDist = defaultDurationTime\n",
    "\n",
    "pitchToLetter = {\n",
    "    0: 'C',\n",
    "    1: 'C#',\n",
    "    2: 'D',\n",
    "    3: 'D#',\n",
    "    4: 'E',\n",
    "    5: 'F',\n",
    "    6: 'F#',\n",
    "    7: 'G',\n",
    "    8: 'G#',\n",
    "    9: 'A',\n",
    "    10: 'A#',\n",
    "    11: 'B'\n",
    "}\n",
    "\n",
    "pitches = {0: 65.406}\n",
    "currentPitch = 0\n",
    "while currentPitch <= 71:\n",
    "    prevPitch = pitches[currentPitch]\n",
    "    currentPitch += 1            \n",
    "    pitches[currentPitch] = prevPitch * (2 ** (1/12))"
   ]
  },
  {
   "cell_type": "markdown",
   "metadata": {},
   "source": [
    "(optional) show audio file for comparison (musicSample.png for demo)"
   ]
  },
  {
   "cell_type": "code",
   "execution_count": 54,
   "metadata": {},
   "outputs": [],
   "source": [
    "# music file = musicSample.png\n",
    "timeListSample = [0, 2, 2, 4, 4, 6, 6, 8, 8, 10, 10, 12, 12, 14, 14, 16]\n",
    "pitchListSample = [14, 14, 16, 16, 18, 18, 19, 19, 21, 21, 23, 23, 25, 25, 26, 26]\n",
    "\n",
    "for i in range(len(pitchListSample)):\n",
    "    pitchListSample[i] += 24\n",
    "\n",
    "gradingDictSample = {}\n",
    "for i in range(len(timeListSample) // 2):\n",
    "    gradingDictSample[timeListSample[i * 2]] = {\n",
    "        \"startTime\": timeListSample[i * 2],\n",
    "        \"pitchClass\": pitchListSample[i * 2],\n",
    "        \"endTime\": timeListSample[(i * 2) + 1]\n",
    "    }\n"
   ]
  },
  {
   "cell_type": "markdown",
   "metadata": {},
   "source": [
    "Get notes from freq"
   ]
  },
  {
   "cell_type": "code",
   "execution_count": 55,
   "metadata": {},
   "outputs": [],
   "source": [
    "def freqToNotes(freqList):\n",
    "    retFreqList = []\n",
    "    for x in freqList:\n",
    "        if (x >= 65.406):\n",
    "            retFreqList.append((12 * math.log((500 * x) / 32523)) / (math.log(2)))\n",
    "        else: \n",
    "            retFreqList.append(-1)\n",
    "    return retFreqList"
   ]
  },
  {
   "cell_type": "markdown",
   "metadata": {},
   "source": [
    "Create Functions"
   ]
  },
  {
   "cell_type": "code",
   "execution_count": 56,
   "metadata": {},
   "outputs": [],
   "source": [
    "def is_close(a, b, tolerance=1e-2):\n",
    "       return abs(a - b) < tolerance\n",
    "\n",
    "def lowerRate(lst, rte, decimalRate):\n",
    "    \"\"\"(List of signal, updated rate (x))\n",
    "    Used to lower bitrate by a factor of x to fix fuzz\"\"\"\n",
    "    retList = []\n",
    "    for i in range(int(len(lst) / rte) - 1):\n",
    "        includedIndices = [lst[i * rte]]\n",
    "        for j in range(rte):\n",
    "            includedIndices.append(lst[(i * rte) + j + 1])\n",
    "        retList.append(round(statistics.median(includedIndices),decimalRate))\n",
    "    return (retList)"
   ]
  },
  {
   "cell_type": "markdown",
   "metadata": {},
   "source": [
    "Pitch Analyzer Class:"
   ]
  },
  {
   "cell_type": "code",
   "execution_count": 57,
   "metadata": {},
   "outputs": [],
   "source": [
    "\n",
    "class PitchAnalyzer:\n",
    "    def __init__(self, filename, decimalRate = defaultDecimalRate, loweringRate = defaultLoweringRate, minDist = defaultMinDist, durationTime = defaultDurationTime):\n",
    "        self.decimalRate = decimalRate\n",
    "        self.loweringRate = loweringRate\n",
    "        self.minDist = minDist\n",
    "        self.durationTime = durationTime\n",
    "        self.freqDict = {}\n",
    "        \n",
    "        \n",
    "        spf = wave.open(filename, \"r\")\n",
    "        signal = spf.readframes(-1)\n",
    "        signal = np.frombuffer(signal, np.int16)\n",
    "        \n",
    "        frameRate = spf.getframerate()\n",
    "        \n",
    "        timeList = []\n",
    "        \n",
    "        newDuration = (len(signal) / frameRate)\n",
    "        if is_close(newDuration / 2, audioDuration): \n",
    "            for i in range(len(signal)):\n",
    "                timeList.append(round((i / 2) / frameRate,self.decimalRate))\n",
    "                \n",
    "        else:\n",
    "            for i in range(len(signal)):\n",
    "                timeList.append(round(i / frameRate,self.decimalRate))\n",
    "                \n",
    "\n",
    "        \n",
    "        \n",
    "        \n",
    "            \n",
    "        if self.loweringRate != 1:\n",
    "            signal = lowerRate(signal, self.loweringRate, self.decimalRate)\n",
    "            timeList = lowerRate(timeList, self.loweringRate, self.decimalRate)\n",
    "            \n",
    "            \n",
    "        self.signal = signal.copy()\n",
    "        self.timeList = timeList.copy()\n",
    "        self.length = timeList[-1]\n",
    "        \n",
    "    def createWavGraph(self, fileLoc):\n",
    "        \n",
    "        plt.figure(1)\n",
    "        plt.title(\"Musical Plot of: \" + fileLoc)\n",
    "        plt.plot(self.timeList, self.signal)\n",
    "        \n",
    "        # for i in (changesOfDerivative):\n",
    "        #     plt.plot(timeList[i], signal[i], 'ro')\n",
    "        #     plt.annotate(f'({round(timeList[i],4)})', (timeList[i], signal[i]), textcoords=\"offset points\", xytext=(0, 10), ha='center')\n",
    "        # for i in (antiPeaks):\n",
    "        #     plt.plot(timeList[i], signal[i], 'bo')\n",
    "        \n",
    "        plt.savefig(fileLoc)\n",
    "        plt.show()\n",
    "        plt.close()\n",
    "\n",
    "        # plt.savefig('my_plot.png')\n",
    "        \n",
    "    def gradeSelf(self, gradingDict):\n",
    "        \n",
    "        #Grade by (weighed median towards lower grade / classic median)\n",
    "        \n",
    "        noteGradeList = []\n",
    "        for i in gradingDict:\n",
    "            currentGradedDict = gradingDict[i]\n",
    "            \n",
    "            userPitchList = []\n",
    "            currentTime = currentGradedDict[\"startTime\"]\n",
    "            while currentTime <= currentGradedDict[\"endTime\"]:\n",
    "                currentTime = round(currentTime, defaultDecimalRate)\n",
    "                if currentTime in self.freqDict:\n",
    "                    userPitchList.append(self.freqDict[currentTime]['pitchClass'] + self.freqDict[currentTime]['cents_innacurate'])\n",
    "                currentTime += defaultDurationTime\n",
    "            \n",
    "            pitchDifferenceList = []\n",
    "            for j in userPitchList:\n",
    "                pitchDifferenceList.append(min([((j%12) - (currentGradedDict[\"pitchClass\"]%12)), ((j%12%5) - (currentGradedDict[\"pitchClass\"]%12%5)), ((j%12%7) - (currentGradedDict[\"pitchClass\"]%12%7))], key=abs))\n",
    "            medianSquareError = statistics.median(pitchDifferenceList)\n",
    "            noteGradeList.append(medianSquareError)\n",
    "            \n",
    "        \n",
    "            \n",
    "            \n",
    "        return(noteGradeList)\n",
    "            \n",
    "    def createFinalGrade(self, gradingDict):\n",
    "        noteGradeList = self.gradeSelf(gradingDict)\n",
    "        retGrade = 100.0\n",
    "        totalNotes = len(noteGradeList)\n",
    "        for i in noteGradeList:\n",
    "            thisGrade = abs(i) ** 2\n",
    "            if thisGrade >= 1:\n",
    "                thisGrade = 1\n",
    "            retGrade -= thisGrade * (100/totalNotes)\n",
    "        return(retGrade)\n",
    "    \n",
    "    def graphPitches(self, fileLoc):\n",
    "        retFreqList = []\n",
    "        retTimeList = []\n",
    "        \n",
    "        i = 0\n",
    "        \n",
    "        while i < self.length - 0.1:\n",
    "            try:\n",
    "                if fullgraph == False:\n",
    "                    retFreqList.append(self.getPitchAtTime(i))\n",
    "                if fullgraph == True:\n",
    "                    retFreqList.append(self.getPitchAtTime(i, fileName = (\"./data/processed/plotPartial/plot[t=\" + str(round(i, defaultDecimalRate)) + \"-\" + str(round(i + self.durationTime, defaultDecimalRate)) + \"]\" + userId + \".png\")))\n",
    "                    print(\"Completed t=\" + str(i) + \"-\" + str(i + self.durationTime))\n",
    "                retTimeList.append(i)\n",
    "            except Exception as err:\n",
    "                print(err)\n",
    "                pass\n",
    "\n",
    "            i += self.durationTime\n",
    "            \n",
    "        \n",
    "        \n",
    "        if fullgraph == False: \n",
    "            specTimeLoc = retTimeList[random.randint(0,len(retTimeList) - 1)]\n",
    "            self.getPitchAtTime(specTimeLoc, fileName = (\"./data/processed/plotPartial\" + userId + \".png\"))\n",
    "            \n",
    "        self.createWavGraph(fileLoc = (\"./data/processed/plotFull\" + userId + \".png\"))\n",
    "\n",
    "        retFreqList = freqToNotes(retFreqList)\n",
    "\n",
    "        timeFreqDict = {}\n",
    "        for i in range(len(retTimeList)):\n",
    "            currentPitchClass = retFreqList[i]\n",
    "            currentNoteName = round(currentPitchClass, 0)\n",
    "            currentNoteCents = currentPitchClass - currentNoteName\n",
    "            currentNoteName %= 12\n",
    "            currentNoteName = pitchToLetter[currentNoteName]\n",
    "            retDict = {\n",
    "                \"pitchClass\" : round(currentPitchClass, 0),\n",
    "                \"noteName\" : currentNoteName,\n",
    "                \"cents_innacurate\" : currentNoteCents,\n",
    "            }\n",
    "            timeFreqDict[round(retTimeList[i], defaultDecimalRate)] = retDict\n",
    "            \n",
    "        self.freqDict = timeFreqDict\n",
    "        \n",
    "        with open(\"./data/processed/timeFreq.json\", \"w\") as outfile:\n",
    "            json.dump(timeFreqDict, outfile)\n",
    "\n",
    "\n",
    "        plt.figure(1)\n",
    "        plt.title(\"Pitch class error over time (seconds)\" )\n",
    "        plt.axhline(y=0, color='blue', linestyle='--')\n",
    "        plt.plot(timeListSample[::2], self.gradeSelf(gradingDictSample), color = 'red', label = \"Inaccuracy\")\n",
    "        plt.show()\n",
    "        plt.savefig(fileLoc)\n",
    "        plt.close()    \n",
    "        \n",
    "        \n",
    "        \n",
    "         \n",
    "\n",
    "\n",
    "    def getPitchAtTime(self, startTime, fileName = False, durationTime = False):\n",
    "        \"\"\"(Start time in seconds, End time in seconds, name of .wav file)\n",
    "        Returns most common frequency at the listed time\"\"\"\n",
    "        \n",
    "        #MEW IDEA TO GO THROUGH ALL FREQUENCIES IN LIST AND ONLY TAKE SIMILAR ~90% values to lowest value, acceptableFreqPercent variable\n",
    "        \n",
    "        if (durationTime == False):\n",
    "            durationTime = self.durationTime\n",
    "        \n",
    "        decimalRate = self.decimalRate\n",
    "        \n",
    "        startTime = round(startTime, decimalRate)\n",
    "        durationTime = round(durationTime, decimalRate)\n",
    "        \n",
    "        signal = self.signal.copy()\n",
    "        timeList = self.timeList.copy()\n",
    "    \n",
    "        while(startTime not in timeList):\n",
    "            startTime = round(startTime + 1 / 10 ** decimalRate,decimalRate)\n",
    "        startIndex = int(timeList.index(startTime))\n",
    "        while (startTime + durationTime not in timeList):\n",
    "            durationTime += 1 / 10 ** decimalRate\n",
    "            durationTime = round(durationTime, decimalRate)\n",
    "        endIndex = int(timeList.index(startTime + durationTime))\n",
    "\n",
    "        signal = signal[startIndex:endIndex]\n",
    "\n",
    "        fft_output = np.fft.fft(signal)\n",
    "        n = len(signal)\n",
    "        frequencies = np.fft.fftfreq(n, d=1/sr)\n",
    "\n",
    "        retFreq = abs(frequencies[np.argmax(np.abs(fft_output))])\n",
    "        \n",
    "        if (fileName != False):\n",
    "        \n",
    "            plt.figure(figsize=(10, 5))\n",
    "            plt.title(\"Musical Plot of: \" + fileName + \", Current Freq = \" + str(retFreq))\n",
    "            plt.plot(frequencies[:n//2], np.abs(fft_output[:n//2]))\n",
    "            plt.xlabel('Pitch Class Difference')\n",
    "            plt.ylabel('Magnitude')\n",
    "            plt.grid(True)\n",
    "\n",
    "            plt.savefig(fileName)\n",
    "            plt.close()\n",
    "        \n",
    "        return(retFreq)"
   ]
  },
  {
   "cell_type": "markdown",
   "metadata": {},
   "source": [
    "Create analyzer"
   ]
  },
  {
   "cell_type": "code",
   "execution_count": 58,
   "metadata": {},
   "outputs": [],
   "source": [
    "thisAnalyzer = PitchAnalyzer(originalFileLoc)"
   ]
  },
  {
   "cell_type": "markdown",
   "metadata": {},
   "source": [
    "Graph all pitches"
   ]
  },
  {
   "cell_type": "code",
   "execution_count": 59,
   "metadata": {},
   "outputs": [
    {
     "data": {
      "image/png": "[encoded data removed]",
      "text/plain": [
       "<Figure size 640x480 with 1 Axes>"
      ]
     },
     "metadata": {},
     "output_type": "display_data"
    },
    {
     "data": {
      "image/png": "[encoded data removed]",
      "text/plain": [
       "<Figure size 640x480 with 1 Axes>"
      ]
     },
     "metadata": {},
     "output_type": "display_data"
    }
   ],
   "source": [
    "thisAnalyzer.graphPitches(\"./data/processed/pitchesPlotFull\" + userId + \".png\")"
   ]
  },
  {
   "cell_type": "code",
   "execution_count": 60,
   "metadata": {},
   "outputs": [
    {
     "name": "stdout",
     "output_type": "stream",
     "text": [
      "[0.23931713689383116, -0.2099768665013073, 0.17405693067479433, 0.11882025044555888, 0.25013396979222335, 0.4128516199272525, 0.19360693932866369, 0.4307288548979109]\n",
      "92.4774812521613\n"
     ]
    }
   ],
   "source": [
    "print(thisAnalyzer.gradeSelf(gradingDictSample))\n",
    "print(thisAnalyzer.createFinalGrade(gradingDictSample))"
   ]
  }
 ],
 "metadata": {
  "kernelspec": {
   "display_name": "Python 3",
   "language": "python",
   "name": "python3"
  },
  "language_info": {
   "codemirror_mode": {
    "name": "ipython",
    "version": 3
   },
   "file_extension": ".py",
   "mimetype": "text/x-python",
   "name": "python",
   "nbconvert_exporter": "python",
   "pygments_lexer": "ipython3",
   "version": "3.10.17"
  }
 },
 "nbformat": 4,
 "nbformat_minor": 2
}
