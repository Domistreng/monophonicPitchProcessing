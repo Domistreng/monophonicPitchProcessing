{
 "cells": [
  {
   "cell_type": "code",
   "execution_count": 9,
   "id": "732ca08f",
   "metadata": {},
   "outputs": [],
   "source": [
    "\n",
    "import numpy as np\n",
    "\n",
    "import pandas as pd\n"
   ]
  },
  {
   "cell_type": "code",
   "execution_count": 10,
   "id": "1e5f3bd0",
   "metadata": {},
   "outputs": [
    {
     "name": "stdout",
     "output_type": "stream",
     "text": [
      "           5th        4th        3rd        2nd        1st  time  idealPitch\n",
      "0    37.831949  30.812399  30.812399  38.239317  38.239317   0.0          38\n",
      "1    38.239317  30.812399  30.812399  37.831949  37.831949   0.1          38\n",
      "2    18.823216  30.823216  30.823216  37.842766  37.842766   0.2          38\n",
      "3    18.823216  30.823216  30.823216  37.842766  37.842766   0.3          38\n",
      "4    18.823216  30.823216  30.823216  37.842766  37.842766   0.4          38\n",
      "..         ...        ...        ...        ...        ...   ...         ...\n",
      "155  43.129637  30.823216  30.823216  31.430729  31.430729  15.5          50\n",
      "156  30.823216  43.129637  43.129637  31.430729  31.430729  15.6          50\n",
      "157  43.129637  30.823216  30.823216  31.430729  31.430729  15.7          50\n",
      "158  43.129637  30.823216  30.823216  31.430729  31.430729  15.8          50\n",
      "159  30.193607  31.430729  31.430729  30.823216  30.823216  15.9          50\n",
      "\n",
      "[160 rows x 7 columns]\n"
     ]
    }
   ],
   "source": [
    "dataFrame = pd.read_csv('data\\\\interim\\\\topFreqs.csv')\n",
    "\n",
    "print(dataFrame)"
   ]
  },
  {
   "cell_type": "code",
   "execution_count": 12,
   "id": "4ce73c7b",
   "metadata": {},
   "outputs": [
    {
     "name": "stdout",
     "output_type": "stream",
     "text": [
      "           5th        4th        3rd        2nd        1st  time  idealPitch\n",
      "13   18.823216  37.842766  37.842766  30.823216  30.823216   1.3          38\n",
      "17   37.842766  38.250134  38.250134  30.823216  30.823216   1.7          38\n",
      "18   18.823216  37.842766  37.842766  30.823216  30.823216   1.8          38\n",
      "19   38.250134  37.842766  37.842766  30.823216  30.823216   1.9          38\n",
      "20   38.615706  19.985214  19.985214  31.398299  31.398299   2.0          40\n",
      "..         ...        ...        ...        ...        ...   ...         ...\n",
      "155  43.129637  30.823216  30.823216  31.430729  31.430729  15.5          50\n",
      "156  30.823216  43.129637  43.129637  31.430729  31.430729  15.6          50\n",
      "157  43.129637  30.823216  30.823216  31.430729  31.430729  15.7          50\n",
      "158  43.129637  30.823216  30.823216  31.430729  31.430729  15.8          50\n",
      "159  30.193607  31.430729  31.430729  30.823216  30.823216  15.9          50\n",
      "\n",
      "[95 rows x 7 columns]\n"
     ]
    }
   ],
   "source": [
    "dfFirstNotClose = dataFrame[abs(dataFrame['1st'] - dataFrame['idealPitch']) >= 0.5]\n",
    "print(dfFirstNotClose)"
   ]
  }
 ],
 "metadata": {
  "kernelspec": {
   "display_name": "Python 3",
   "language": "python",
   "name": "python3"
  },
  "language_info": {
   "codemirror_mode": {
    "name": "ipython",
    "version": 3
   },
   "file_extension": ".py",
   "mimetype": "text/x-python",
   "name": "python",
   "nbconvert_exporter": "python",
   "pygments_lexer": "ipython3",
   "version": "3.12.2"
  }
 },
 "nbformat": 4,
 "nbformat_minor": 5
}
